{
  "nbformat": 4,
  "nbformat_minor": 0,
  "metadata": {
    "colab": {
      "name": "SentimentAnalysis.ipynb",
      "provenance": [],
      "collapsed_sections": [],
      "mount_file_id": "1bDgT8AyQucbISsxXrJkwF69RBYhVD0tg",
      "authorship_tag": "ABX9TyM4+FApjoHkpwQfho3Qqh0i",
      "include_colab_link": true
    },
    "kernelspec": {
      "name": "python3",
      "display_name": "Python 3"
    },
    "language_info": {
      "name": "python"
    }
  },
  "cells": [
    {
      "cell_type": "markdown",
      "metadata": {
        "id": "view-in-github",
        "colab_type": "text"
      },
      "source": [
        "<a href=\"https://colab.research.google.com/github/ayushic2899/Tweet_Sentiment_Analysis/blob/main/SentimentAnalysis.ipynb\" target=\"_parent\"><img src=\"https://colab.research.google.com/assets/colab-badge.svg\" alt=\"Open In Colab\"/></a>"
      ]
    },
    {
      "cell_type": "code",
      "metadata": {
        "id": "dM__m_c07Qqn"
      },
      "source": [
        "import pandas as pd\n",
        "import matplotlib.pyplot as plt\n",
        "import seaborn as sns"
      ],
      "execution_count": 2,
      "outputs": []
    },
    {
      "cell_type": "code",
      "metadata": {
        "colab": {
          "base_uri": "https://localhost:8080/"
        },
        "id": "8lV2GJZnLhqh",
        "outputId": "f81e77de-8c53-4af1-f48d-a80011517cb6"
      },
      "source": [
        "from google.colab import drive\n",
        "drive.mount('/content/gdrive')"
      ],
      "execution_count": 1,
      "outputs": [
        {
          "output_type": "stream",
          "text": [
            "Mounted at /content/gdrive\n"
          ],
          "name": "stdout"
        }
      ]
    },
    {
      "cell_type": "code",
      "metadata": {
        "id": "cPucrbWpIokG"
      },
      "source": [
        "data=pd.read_csv(\"/content/gdrive/MyDrive/Colab Notebooks/sentiment_TCS.csv\")"
      ],
      "execution_count": 3,
      "outputs": []
    },
    {
      "cell_type": "code",
      "metadata": {
        "colab": {
          "base_uri": "https://localhost:8080/",
          "height": 196
        },
        "id": "g3V8o5dzIozL",
        "outputId": "55e8c0d1-f41c-4444-aa3a-3512a48d2b76"
      },
      "source": [
        "data.head()"
      ],
      "execution_count": 4,
      "outputs": [
        {
          "output_type": "execute_result",
          "data": {
            "text/html": [
              "<div>\n",
              "<style scoped>\n",
              "    .dataframe tbody tr th:only-of-type {\n",
              "        vertical-align: middle;\n",
              "    }\n",
              "\n",
              "    .dataframe tbody tr th {\n",
              "        vertical-align: top;\n",
              "    }\n",
              "\n",
              "    .dataframe thead th {\n",
              "        text-align: right;\n",
              "    }\n",
              "</style>\n",
              "<table border=\"1\" class=\"dataframe\">\n",
              "  <thead>\n",
              "    <tr style=\"text-align: right;\">\n",
              "      <th></th>\n",
              "      <th>polarity</th>\n",
              "      <th>tweet</th>\n",
              "      <th>dates</th>\n",
              "    </tr>\n",
              "  </thead>\n",
              "  <tbody>\n",
              "    <tr>\n",
              "      <th>0</th>\n",
              "      <td>0.000</td>\n",
              "      <td>RT sachinv1125 Plz PM Modi ji reschedule exam ...</td>\n",
              "      <td>04-03-2021</td>\n",
              "    </tr>\n",
              "    <tr>\n",
              "      <th>1</th>\n",
              "      <td>0.475</td>\n",
              "      <td>What a great time and great job by you Sean al...</td>\n",
              "      <td>04-03-2021</td>\n",
              "    </tr>\n",
              "    <tr>\n",
              "      <th>2</th>\n",
              "      <td>0.000</td>\n",
              "      <td>please continue wfh TCS</td>\n",
              "      <td>04-03-2021</td>\n",
              "    </tr>\n",
              "    <tr>\n",
              "      <th>3</th>\n",
              "      <td>0.500</td>\n",
              "      <td>While India Inc is jumping to cover vaccinatio...</td>\n",
              "      <td>04-03-2021</td>\n",
              "    </tr>\n",
              "    <tr>\n",
              "      <th>4</th>\n",
              "      <td>0.600</td>\n",
              "      <td>tpbhatla passportsevamea TCS VMBJP SecySanjay ...</td>\n",
              "      <td>04-03-2021</td>\n",
              "    </tr>\n",
              "  </tbody>\n",
              "</table>\n",
              "</div>"
            ],
            "text/plain": [
              "   polarity                                              tweet       dates\n",
              "0     0.000  RT sachinv1125 Plz PM Modi ji reschedule exam ...  04-03-2021\n",
              "1     0.475  What a great time and great job by you Sean al...  04-03-2021\n",
              "2     0.000                            please continue wfh TCS  04-03-2021\n",
              "3     0.500  While India Inc is jumping to cover vaccinatio...  04-03-2021\n",
              "4     0.600  tpbhatla passportsevamea TCS VMBJP SecySanjay ...  04-03-2021"
            ]
          },
          "metadata": {
            "tags": []
          },
          "execution_count": 4
        }
      ]
    },
    {
      "cell_type": "code",
      "metadata": {
        "colab": {
          "base_uri": "https://localhost:8080/"
        },
        "id": "ZnIhHgwmMtJI",
        "outputId": "1e32c7da-8678-4135-a12d-438abd143bee"
      },
      "source": [
        " data['polarity'].unique()"
      ],
      "execution_count": 5,
      "outputs": [
        {
          "output_type": "execute_result",
          "data": {
            "text/plain": [
              "array([ 0.00000000e+00,  4.75000000e-01,  5.00000000e-01,  6.00000000e-01,\n",
              "        2.00000000e-01, -5.00000000e-01,  4.50000000e-01, -1.00000000e-01,\n",
              "        1.00000000e-01, -1.12500000e-01,  2.25000000e-01,  3.33333333e-01,\n",
              "       -4.00000000e-01, -8.54166667e-02,  9.91161616e-02, -3.00000000e-01,\n",
              "        1.36363636e-01,  6.66666667e-02,  1.00000000e+00, -1.66666667e-01,\n",
              "        2.50000000e-01, -5.20000000e-01, -7.50000000e-01,  5.33333333e-01,\n",
              "        8.00000000e-01, -7.50000000e-02, -6.00000000e-01,  2.66666667e-01,\n",
              "        5.00000000e-02,  3.00000000e-01,  3.18181818e-01,  1.42857143e-01,\n",
              "        7.00000000e-01, -8.33333333e-02,  1.50000000e-01,  1.58333333e-01,\n",
              "       -5.00000000e-02,  1.80000000e-01, -1.87500000e-01, -4.04761905e-01,\n",
              "        4.00000000e-01,  2.20000000e-01,  5.75000000e-01,  6.33333333e-01,\n",
              "        6.00000000e-01,  2.54166667e-01,  3.87500000e-01,  1.57142857e-01,\n",
              "       -2.91666667e-02,  1.81818182e-02,  2.75000000e-01, -1.07142857e-01,\n",
              "        1.11111111e-02,  1.21212121e-02,  3.75000000e-01,  6.25000000e-02,\n",
              "        7.50000000e-01, -8.33333333e-03,  8.50000000e-01, -4.16666667e-02,\n",
              "       -2.91666667e-01, -2.00000000e-01,  7.50000000e-02, -8.33333333e-02,\n",
              "        3.50000000e-01,  1.25000000e-01, -6.66666667e-02,  2.26190476e-01,\n",
              "        1.87500000e-01,  1.66666667e-01,  3.25000000e-01,  1.38777878e-17])"
            ]
          },
          "metadata": {
            "tags": []
          },
          "execution_count": 5
        }
      ]
    },
    {
      "cell_type": "code",
      "metadata": {
        "colab": {
          "base_uri": "https://localhost:8080/"
        },
        "id": "OCIA8j5JMtN5",
        "outputId": "a99df6c6-5af2-4876-93c4-aefa48621656"
      },
      "source": [
        " data['dates'].unique()"
      ],
      "execution_count": 6,
      "outputs": [
        {
          "output_type": "execute_result",
          "data": {
            "text/plain": [
              "array(['04-03-2021', '05-03-2021', '06-03-2021', '07-03-2021',\n",
              "       '08-03-2021', '09-03-2021', '10-03-2021'], dtype=object)"
            ]
          },
          "metadata": {
            "tags": []
          },
          "execution_count": 6
        }
      ]
    },
    {
      "cell_type": "code",
      "metadata": {
        "id": "W5QlkX81MtbL"
      },
      "source": [
        "from nltk.corpus import stopwords\n",
        "from nltk.tokenize import word_tokenize\n",
        "from nltk.stem import PorterStemmer, WordNetLemmatizer\n",
        "from sklearn.model_selection import train_test_split\n",
        "from sklearn.feature_extraction.text import TfidfVectorizer\n",
        "%matplotlib inline"
      ],
      "execution_count": 7,
      "outputs": []
    },
    {
      "cell_type": "code",
      "metadata": {
        "colab": {
          "base_uri": "https://localhost:8080/"
        },
        "id": "asCHOSrkOuYD",
        "outputId": "9305386a-11bc-4795-c002-b1a291e5227c"
      },
      "source": [
        "#using Stopwords import from nltk library\n",
        "import nltk\n",
        "nltk.download('stopwords')\n",
        "stopword = set(stopwords.words('english'))"
      ],
      "execution_count": 8,
      "outputs": [
        {
          "output_type": "stream",
          "text": [
            "[nltk_data] Downloading package stopwords to /root/nltk_data...\n",
            "[nltk_data]   Unzipping corpora/stopwords.zip.\n"
          ],
          "name": "stdout"
        }
      ]
    },
    {
      "cell_type": "code",
      "metadata": {
        "id": "CV56F8kVOudd"
      },
      "source": [
        "#performing stemming and porter stemmer for stemming purpos so that process of removing prefixes and suffixes from words so that they are reduced to simpler forms\n",
        "def process_tweets(tweet):\n",
        "    tweet = tweet.lower()\n",
        "    tweet =  re.sub(r'^https?:\\/\\/.*[\\r\\n]*', '', tweet, flags=re.MULTILINE)\n",
        "    tweet = tweet.translate(str.maketrans(\"\",\"\",string.punctuation))\n",
        "    tweet = re.sub(r'\\@\\w+|\\#',\"\",tweet)\n",
        "    tokens = word_tokenize(tweet)\n",
        "    final_tokens = [w for w in tokens if w not in stopword]\n",
        "    porter = PorterStemmer()\n",
        "    final_words = [porter.stem(w) for w in final_tokens]\n",
        "    \n",
        "    return ' '.join(final_words)"
      ],
      "execution_count": 9,
      "outputs": []
    },
    {
      "cell_type": "code",
      "metadata": {
        "colab": {
          "base_uri": "https://localhost:8080/",
          "height": 196
        },
        "id": "06APJ23MPLPx",
        "outputId": "dfb4ac91-44f5-4013-ded4-b6925038e2c7"
      },
      "source": [
        "data.head()"
      ],
      "execution_count": 11,
      "outputs": [
        {
          "output_type": "execute_result",
          "data": {
            "text/html": [
              "<div>\n",
              "<style scoped>\n",
              "    .dataframe tbody tr th:only-of-type {\n",
              "        vertical-align: middle;\n",
              "    }\n",
              "\n",
              "    .dataframe tbody tr th {\n",
              "        vertical-align: top;\n",
              "    }\n",
              "\n",
              "    .dataframe thead th {\n",
              "        text-align: right;\n",
              "    }\n",
              "</style>\n",
              "<table border=\"1\" class=\"dataframe\">\n",
              "  <thead>\n",
              "    <tr style=\"text-align: right;\">\n",
              "      <th></th>\n",
              "      <th>polarity</th>\n",
              "      <th>tweet</th>\n",
              "      <th>dates</th>\n",
              "    </tr>\n",
              "  </thead>\n",
              "  <tbody>\n",
              "    <tr>\n",
              "      <th>0</th>\n",
              "      <td>0.000</td>\n",
              "      <td>RT sachinv1125 Plz PM Modi ji reschedule exam ...</td>\n",
              "      <td>04-03-2021</td>\n",
              "    </tr>\n",
              "    <tr>\n",
              "      <th>1</th>\n",
              "      <td>0.475</td>\n",
              "      <td>What a great time and great job by you Sean al...</td>\n",
              "      <td>04-03-2021</td>\n",
              "    </tr>\n",
              "    <tr>\n",
              "      <th>2</th>\n",
              "      <td>0.000</td>\n",
              "      <td>please continue wfh TCS</td>\n",
              "      <td>04-03-2021</td>\n",
              "    </tr>\n",
              "    <tr>\n",
              "      <th>3</th>\n",
              "      <td>0.500</td>\n",
              "      <td>While India Inc is jumping to cover vaccinatio...</td>\n",
              "      <td>04-03-2021</td>\n",
              "    </tr>\n",
              "    <tr>\n",
              "      <th>4</th>\n",
              "      <td>0.600</td>\n",
              "      <td>tpbhatla passportsevamea TCS VMBJP SecySanjay ...</td>\n",
              "      <td>04-03-2021</td>\n",
              "    </tr>\n",
              "  </tbody>\n",
              "</table>\n",
              "</div>"
            ],
            "text/plain": [
              "   polarity                                              tweet       dates\n",
              "0     0.000  RT sachinv1125 Plz PM Modi ji reschedule exam ...  04-03-2021\n",
              "1     0.475  What a great time and great job by you Sean al...  04-03-2021\n",
              "2     0.000                            please continue wfh TCS  04-03-2021\n",
              "3     0.500  While India Inc is jumping to cover vaccinatio...  04-03-2021\n",
              "4     0.600  tpbhatla passportsevamea TCS VMBJP SecySanjay ...  04-03-2021"
            ]
          },
          "metadata": {
            "tags": []
          },
          "execution_count": 11
        }
      ]
    },
    {
      "cell_type": "code",
      "metadata": {
        "id": "o__e33A_T9H2"
      },
      "source": [
        "def getSentiment(score):\n",
        "  if score<0:\n",
        "    return 'Negative'\n",
        "  elif score==0:\n",
        "    return 'Neutral'\n",
        "  else:\n",
        "    return 'Positive'"
      ],
      "execution_count": 29,
      "outputs": []
    },
    {
      "cell_type": "code",
      "metadata": {
        "id": "0MhxQjIoT9Kc"
      },
      "source": [
        "data['Sentiment']=data['polarity'].apply(getSentiment)"
      ],
      "execution_count": 31,
      "outputs": []
    },
    {
      "cell_type": "code",
      "metadata": {
        "colab": {
          "base_uri": "https://localhost:8080/",
          "height": 196
        },
        "id": "MswlIZeTT9O3",
        "outputId": "702cd1a7-2e70-4851-bc27-a55f66dc3f7b"
      },
      "source": [
        "data.head()"
      ],
      "execution_count": 32,
      "outputs": [
        {
          "output_type": "execute_result",
          "data": {
            "text/html": [
              "<div>\n",
              "<style scoped>\n",
              "    .dataframe tbody tr th:only-of-type {\n",
              "        vertical-align: middle;\n",
              "    }\n",
              "\n",
              "    .dataframe tbody tr th {\n",
              "        vertical-align: top;\n",
              "    }\n",
              "\n",
              "    .dataframe thead th {\n",
              "        text-align: right;\n",
              "    }\n",
              "</style>\n",
              "<table border=\"1\" class=\"dataframe\">\n",
              "  <thead>\n",
              "    <tr style=\"text-align: right;\">\n",
              "      <th></th>\n",
              "      <th>polarity</th>\n",
              "      <th>tweet</th>\n",
              "      <th>dates</th>\n",
              "      <th>Sentiment</th>\n",
              "    </tr>\n",
              "  </thead>\n",
              "  <tbody>\n",
              "    <tr>\n",
              "      <th>0</th>\n",
              "      <td>0.000</td>\n",
              "      <td>RT sachinv1125 Plz PM Modi ji reschedule exam ...</td>\n",
              "      <td>04-03-2021</td>\n",
              "      <td>Neutral</td>\n",
              "    </tr>\n",
              "    <tr>\n",
              "      <th>1</th>\n",
              "      <td>0.475</td>\n",
              "      <td>What a great time and great job by you Sean al...</td>\n",
              "      <td>04-03-2021</td>\n",
              "      <td>Positive</td>\n",
              "    </tr>\n",
              "    <tr>\n",
              "      <th>2</th>\n",
              "      <td>0.000</td>\n",
              "      <td>please continue wfh TCS</td>\n",
              "      <td>04-03-2021</td>\n",
              "      <td>Neutral</td>\n",
              "    </tr>\n",
              "    <tr>\n",
              "      <th>3</th>\n",
              "      <td>0.500</td>\n",
              "      <td>While India Inc is jumping to cover vaccinatio...</td>\n",
              "      <td>04-03-2021</td>\n",
              "      <td>Positive</td>\n",
              "    </tr>\n",
              "    <tr>\n",
              "      <th>4</th>\n",
              "      <td>0.600</td>\n",
              "      <td>tpbhatla passportsevamea TCS VMBJP SecySanjay ...</td>\n",
              "      <td>04-03-2021</td>\n",
              "      <td>Positive</td>\n",
              "    </tr>\n",
              "  </tbody>\n",
              "</table>\n",
              "</div>"
            ],
            "text/plain": [
              "   polarity  ... Sentiment\n",
              "0     0.000  ...   Neutral\n",
              "1     0.475  ...  Positive\n",
              "2     0.000  ...   Neutral\n",
              "3     0.500  ...  Positive\n",
              "4     0.600  ...  Positive\n",
              "\n",
              "[5 rows x 4 columns]"
            ]
          },
          "metadata": {
            "tags": []
          },
          "execution_count": 32
        }
      ]
    },
    {
      "cell_type": "code",
      "metadata": {
        "id": "u9a85ykryELF",
        "colab": {
          "base_uri": "https://localhost:8080/",
          "height": 330
        },
        "outputId": "56ef952c-fc85-44f2-b85f-874e7f9e337b"
      },
      "source": [
        "#Create a bar chart to show the count of positive,Neutral,and negative sentiments\n",
        "data['Sentiment'].value_counts().plot(kind='bar')\n",
        "plt.title('Sentiment Analysis Bar plot')\n",
        "plt.xlabel('Polarity')\n",
        "plt.ylabel('Number of Tweets')\n",
        "plt.show()"
      ],
      "execution_count": 39,
      "outputs": [
        {
          "output_type": "display_data",
          "data": {
            "image/png": "[encoded data removed]",
            "text/plain": [
              "<Figure size 432x288 with 1 Axes>"
            ]
          },
          "metadata": {
            "tags": [],
            "needs_background": "light"
          }
        }
      ]
    },
    {
      "cell_type": "code",
      "metadata": {
        "colab": {
          "base_uri": "https://localhost:8080/"
        },
        "id": "bQwPxYzddmCV",
        "outputId": "2049e7d1-0af7-431a-9aec-8dac14a130c0"
      },
      "source": [
        "data['Sentiment'].value_counts()"
      ],
      "execution_count": 51,
      "outputs": [
        {
          "output_type": "execute_result",
          "data": {
            "text/plain": [
              "Neutral     2778\n",
              "Positive    1650\n",
              "Negative     983\n",
              "Name: Sentiment, dtype: int64"
            ]
          },
          "metadata": {
            "tags": []
          },
          "execution_count": 51
        }
      ]
    },
    {
      "cell_type": "code",
      "metadata": {
        "colab": {
          "base_uri": "https://localhost:8080/",
          "height": 466
        },
        "id": "jlBGIh7eY7lC",
        "outputId": "e002232c-643e-47a3-e0d7-46d8d74b7eca"
      },
      "source": [
        "#pie chart for Sentiments\n",
        "import numpy as np\n",
        "plt.figure(figsize=(, 7))\n",
        "y = np.array([2778,1650,983])\n",
        "mylabel = [\"Neutral\",\"Positive\",\" Negative\"]\n",
        "plt.pie(y, labels = mylabel, startangle = 90,shadow = True)\n",
        "plt.legend(title = \"Sentiment pie chart\")\n",
        "plt.show() "
      ],
      "execution_count": 68,
      "outputs": [
        {
          "output_type": "display_data",
          "data": {
            "image/png": "[encoded data removed]",
            "text/plain": [
              "<Figure size 576x576 with 1 Axes>"
            ]
          },
          "metadata": {
            "tags": []
          }
        }
      ]
    },
    {
      "cell_type": "code",
      "metadata": {
        "id": "vlpWsZORk62i"
      },
      "source": [
        "df= data.drop(columns = ['tweet'])"
      ],
      "execution_count": 75,
      "outputs": []
    },
    {
      "cell_type": "code",
      "metadata": {
        "colab": {
          "base_uri": "https://localhost:8080/",
          "height": 196
        },
        "id": "i6Njt5T2k67f",
        "outputId": "aeab6235-2e48-46d8-e56b-1f1f2f74c75c"
      },
      "source": [
        "df.head()"
      ],
      "execution_count": 77,
      "outputs": [
        {
          "output_type": "execute_result",
          "data": {
            "text/html": [
              "<div>\n",
              "<style scoped>\n",
              "    .dataframe tbody tr th:only-of-type {\n",
              "        vertical-align: middle;\n",
              "    }\n",
              "\n",
              "    .dataframe tbody tr th {\n",
              "        vertical-align: top;\n",
              "    }\n",
              "\n",
              "    .dataframe thead th {\n",
              "        text-align: right;\n",
              "    }\n",
              "</style>\n",
              "<table border=\"1\" class=\"dataframe\">\n",
              "  <thead>\n",
              "    <tr style=\"text-align: right;\">\n",
              "      <th></th>\n",
              "      <th>polarity</th>\n",
              "      <th>dates</th>\n",
              "      <th>Sentiment</th>\n",
              "    </tr>\n",
              "  </thead>\n",
              "  <tbody>\n",
              "    <tr>\n",
              "      <th>0</th>\n",
              "      <td>0.000</td>\n",
              "      <td>04-03-2021</td>\n",
              "      <td>Neutral</td>\n",
              "    </tr>\n",
              "    <tr>\n",
              "      <th>1</th>\n",
              "      <td>0.475</td>\n",
              "      <td>04-03-2021</td>\n",
              "      <td>Positive</td>\n",
              "    </tr>\n",
              "    <tr>\n",
              "      <th>2</th>\n",
              "      <td>0.000</td>\n",
              "      <td>04-03-2021</td>\n",
              "      <td>Neutral</td>\n",
              "    </tr>\n",
              "    <tr>\n",
              "      <th>3</th>\n",
              "      <td>0.500</td>\n",
              "      <td>04-03-2021</td>\n",
              "      <td>Positive</td>\n",
              "    </tr>\n",
              "    <tr>\n",
              "      <th>4</th>\n",
              "      <td>0.600</td>\n",
              "      <td>04-03-2021</td>\n",
              "      <td>Positive</td>\n",
              "    </tr>\n",
              "  </tbody>\n",
              "</table>\n",
              "</div>"
            ],
            "text/plain": [
              "   polarity       dates Sentiment\n",
              "0     0.000  04-03-2021   Neutral\n",
              "1     0.475  04-03-2021  Positive\n",
              "2     0.000  04-03-2021   Neutral\n",
              "3     0.500  04-03-2021  Positive\n",
              "4     0.600  04-03-2021  Positive"
            ]
          },
          "metadata": {
            "tags": []
          },
          "execution_count": 77
        }
      ]
    },
    {
      "cell_type": "code",
      "metadata": {
        "colab": {
          "base_uri": "https://localhost:8080/",
          "height": 286
        },
        "id": "Lw_yVDe3k68u",
        "outputId": "011e23a4-e4a9-488d-dedf-06c891ea96f9"
      },
      "source": [
        "df.groupby('dates').count()"
      ],
      "execution_count": 78,
      "outputs": [
        {
          "output_type": "execute_result",
          "data": {
            "text/html": [
              "<div>\n",
              "<style scoped>\n",
              "    .dataframe tbody tr th:only-of-type {\n",
              "        vertical-align: middle;\n",
              "    }\n",
              "\n",
              "    .dataframe tbody tr th {\n",
              "        vertical-align: top;\n",
              "    }\n",
              "\n",
              "    .dataframe thead th {\n",
              "        text-align: right;\n",
              "    }\n",
              "</style>\n",
              "<table border=\"1\" class=\"dataframe\">\n",
              "  <thead>\n",
              "    <tr style=\"text-align: right;\">\n",
              "      <th></th>\n",
              "      <th>polarity</th>\n",
              "      <th>Sentiment</th>\n",
              "    </tr>\n",
              "    <tr>\n",
              "      <th>dates</th>\n",
              "      <th></th>\n",
              "      <th></th>\n",
              "    </tr>\n",
              "  </thead>\n",
              "  <tbody>\n",
              "    <tr>\n",
              "      <th>04-03-2021</th>\n",
              "      <td>859</td>\n",
              "      <td>859</td>\n",
              "    </tr>\n",
              "    <tr>\n",
              "      <th>05-03-2021</th>\n",
              "      <td>859</td>\n",
              "      <td>859</td>\n",
              "    </tr>\n",
              "    <tr>\n",
              "      <th>06-03-2021</th>\n",
              "      <td>859</td>\n",
              "      <td>859</td>\n",
              "    </tr>\n",
              "    <tr>\n",
              "      <th>07-03-2021</th>\n",
              "      <td>861</td>\n",
              "      <td>861</td>\n",
              "    </tr>\n",
              "    <tr>\n",
              "      <th>08-03-2021</th>\n",
              "      <td>794</td>\n",
              "      <td>794</td>\n",
              "    </tr>\n",
              "    <tr>\n",
              "      <th>09-03-2021</th>\n",
              "      <td>661</td>\n",
              "      <td>661</td>\n",
              "    </tr>\n",
              "    <tr>\n",
              "      <th>10-03-2021</th>\n",
              "      <td>518</td>\n",
              "      <td>518</td>\n",
              "    </tr>\n",
              "  </tbody>\n",
              "</table>\n",
              "</div>"
            ],
            "text/plain": [
              "            polarity  Sentiment\n",
              "dates                          \n",
              "04-03-2021       859        859\n",
              "05-03-2021       859        859\n",
              "06-03-2021       859        859\n",
              "07-03-2021       861        861\n",
              "08-03-2021       794        794\n",
              "09-03-2021       661        661\n",
              "10-03-2021       518        518"
            ]
          },
          "metadata": {
            "tags": []
          },
          "execution_count": 78
        }
      ]
    },
    {
      "cell_type": "code",
      "metadata": {
        "id": "uacVlG6VyER4",
        "colab": {
          "base_uri": "https://localhost:8080/",
          "height": 316
        },
        "outputId": "982decb6-fccf-4ed0-bab0-a6f128b89d50"
      },
      "source": [
        "## sentiment category values with respect to their dates\n",
        "df2=pd.pivot_table(df,index=['dates'],columns=['Sentiment'],values=['Sentiment'],aggfunc='count')\n",
        "df2"
      ],
      "execution_count": 81,
      "outputs": [
        {
          "output_type": "execute_result",
          "data": {
            "text/html": [
              "<div>\n",
              "<style scoped>\n",
              "    .dataframe tbody tr th:only-of-type {\n",
              "        vertical-align: middle;\n",
              "    }\n",
              "\n",
              "    .dataframe tbody tr th {\n",
              "        vertical-align: top;\n",
              "    }\n",
              "\n",
              "    .dataframe thead tr th {\n",
              "        text-align: left;\n",
              "    }\n",
              "\n",
              "    .dataframe thead tr:last-of-type th {\n",
              "        text-align: right;\n",
              "    }\n",
              "</style>\n",
              "<table border=\"1\" class=\"dataframe\">\n",
              "  <thead>\n",
              "    <tr>\n",
              "      <th></th>\n",
              "      <th colspan=\"3\" halign=\"left\">polarity</th>\n",
              "    </tr>\n",
              "    <tr>\n",
              "      <th>Sentiment</th>\n",
              "      <th>Negative</th>\n",
              "      <th>Neutral</th>\n",
              "      <th>Positive</th>\n",
              "    </tr>\n",
              "    <tr>\n",
              "      <th>dates</th>\n",
              "      <th></th>\n",
              "      <th></th>\n",
              "      <th></th>\n",
              "    </tr>\n",
              "  </thead>\n",
              "  <tbody>\n",
              "    <tr>\n",
              "      <th>04-03-2021</th>\n",
              "      <td>159</td>\n",
              "      <td>426</td>\n",
              "      <td>274</td>\n",
              "    </tr>\n",
              "    <tr>\n",
              "      <th>05-03-2021</th>\n",
              "      <td>159</td>\n",
              "      <td>426</td>\n",
              "      <td>274</td>\n",
              "    </tr>\n",
              "    <tr>\n",
              "      <th>06-03-2021</th>\n",
              "      <td>159</td>\n",
              "      <td>426</td>\n",
              "      <td>274</td>\n",
              "    </tr>\n",
              "    <tr>\n",
              "      <th>07-03-2021</th>\n",
              "      <td>159</td>\n",
              "      <td>426</td>\n",
              "      <td>276</td>\n",
              "    </tr>\n",
              "    <tr>\n",
              "      <th>08-03-2021</th>\n",
              "      <td>139</td>\n",
              "      <td>408</td>\n",
              "      <td>247</td>\n",
              "    </tr>\n",
              "    <tr>\n",
              "      <th>09-03-2021</th>\n",
              "      <td>114</td>\n",
              "      <td>364</td>\n",
              "      <td>183</td>\n",
              "    </tr>\n",
              "    <tr>\n",
              "      <th>10-03-2021</th>\n",
              "      <td>94</td>\n",
              "      <td>302</td>\n",
              "      <td>122</td>\n",
              "    </tr>\n",
              "  </tbody>\n",
              "</table>\n",
              "</div>"
            ],
            "text/plain": [
              "           polarity                 \n",
              "Sentiment  Negative Neutral Positive\n",
              "dates                               \n",
              "04-03-2021      159     426      274\n",
              "05-03-2021      159     426      274\n",
              "06-03-2021      159     426      274\n",
              "07-03-2021      159     426      276\n",
              "08-03-2021      139     408      247\n",
              "09-03-2021      114     364      183\n",
              "10-03-2021       94     302      122"
            ]
          },
          "metadata": {
            "tags": []
          },
          "execution_count": 81
        }
      ]
    },
    {
      "cell_type": "code",
      "metadata": {
        "colab": {
          "base_uri": "https://localhost:8080/",
          "height": 512
        },
        "id": "qJrmmIN6uUwT",
        "outputId": "46700209-6bc3-4f3c-a7a2-f49a7b9b03ad"
      },
      "source": [
        "#count plot between dates and Sentiments\n",
        "plt.figure(figsize=(7, 7))\n",
        "sns.countplot('dates',hue='Sentiment' ,data=df)"
      ],
      "execution_count": 99,
      "outputs": [
        {
          "output_type": "stream",
          "text": [
            "/usr/local/lib/python3.7/dist-packages/seaborn/_decorators.py:43: FutureWarning: Pass the following variable as a keyword arg: x. From version 0.12, the only valid positional argument will be `data`, and passing other arguments without an explicit keyword will result in an error or misinterpretation.\n",
            "  FutureWarning\n"
          ],
          "name": "stderr"
        },
        {
          "output_type": "execute_result",
          "data": {
            "text/plain": [
              "<matplotlib.axes._subplots.AxesSubplot at 0x7fb0da2b16d0>"
            ]
          },
          "metadata": {
            "tags": []
          },
          "execution_count": 99
        },
        {
          "output_type": "display_data",
          "data": {
            "image/png": "[encoded data removed]",
            "text/plain": [
              "<Figure size 504x504 with 1 Axes>"
            ]
          },
          "metadata": {
            "tags": [],
            "needs_background": "light"
          }
        }
      ]
    }
  ]
}